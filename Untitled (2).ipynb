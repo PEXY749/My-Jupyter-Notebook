{
  "metadata": {
    "language_info": {
      "codemirror_mode": {
        "name": "python",
        "version": 3
      },
      "file_extension": ".py",
      "mimetype": "text/x-python",
      "name": "python",
      "nbconvert_exporter": "python",
      "pygments_lexer": "ipython3",
      "version": "3.8"
    },
    "kernelspec": {
      "name": "python",
      "display_name": "Python (Pyodide)",
      "language": "python"
    }
  },
  "nbformat_minor": 4,
  "nbformat": 4,
  "cells": [
    {
      "cell_type": "markdown",
      "source": "# My Jupyter Notebook",
      "metadata": {}
    },
    {
      "cell_type": "markdown",
      "source": "**Abdullah Almasry**\neconomics student aspiring to know more and work with data",
      "metadata": {}
    },
    {
      "cell_type": "markdown",
      "source": "*I think data science is the most trending topic in the world at the moment due to the rapid development of companies who use methods that revolve around data thus i find it very interesting to learn or have general knowledge about the essence of this science*|",
      "metadata": {}
    },
    {
      "cell_type": "markdown",
      "source": "## I'm assigning letters in certain groups",
      "metadata": {}
    },
    {
      "cell_type": "code",
      "source": "x = \"abc\"\ny = \"de\"\nz = x + y\nprint (z)",
      "metadata": {
        "trusted": true
      },
      "execution_count": 12,
      "outputs": [
        {
          "name": "stdout",
          "text": "abcde\n",
          "output_type": "stream"
        }
      ]
    },
    {
      "cell_type": "markdown",
      "source": "-main 1 \n- sub 1 \n- sub 2 \n\n\n1. main 2 \n2. main 3 \n3. main 4\n\n\n[google] (https://www.google.com)",
      "metadata": {}
    },
    {
      "cell_type": "code",
      "source": "",
      "metadata": {},
      "execution_count": null,
      "outputs": []
    }
  ]
}